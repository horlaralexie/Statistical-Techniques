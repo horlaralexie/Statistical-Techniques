{
 "cells": [
  {
   "cell_type": "markdown",
   "id": "2463cd7b",
   "metadata": {},
   "source": [
    "# Statistical Techniques for DA CA1"
   ]
  },
  {
   "cell_type": "code",
   "execution_count": 79,
   "id": "f73a351a",
   "metadata": {},
   "outputs": [],
   "source": [
    "## IMPORTING LIBRARIES\n",
    "import pandas as pd\n",
    "import statistics as stats\n",
    "import numpy as np\n",
    "import matplotlib.pyplot as plt\n",
    "import seaborn as sns"
   ]
  },
  {
   "cell_type": "code",
   "execution_count": 80,
   "id": "7d329b8f",
   "metadata": {},
   "outputs": [],
   "source": [
    "## IMPORTING DATASET \n",
    "mkt_df = pd.read_csv('Bank_Mkt_Campaign.csv')"
   ]
  },
  {
   "cell_type": "markdown",
   "id": "f2158664",
   "metadata": {},
   "source": [
    "# Descriptive Statistics "
   ]
  },
  {
   "cell_type": "code",
   "execution_count": 81,
   "id": "689a6728",
   "metadata": {},
   "outputs": [
    {
     "data": {
      "text/html": [
       "<div>\n",
       "<style scoped>\n",
       "    .dataframe tbody tr th:only-of-type {\n",
       "        vertical-align: middle;\n",
       "    }\n",
       "\n",
       "    .dataframe tbody tr th {\n",
       "        vertical-align: top;\n",
       "    }\n",
       "\n",
       "    .dataframe thead th {\n",
       "        text-align: right;\n",
       "    }\n",
       "</style>\n",
       "<table border=\"1\" class=\"dataframe\">\n",
       "  <thead>\n",
       "    <tr style=\"text-align: right;\">\n",
       "      <th></th>\n",
       "      <th>age</th>\n",
       "      <th>job</th>\n",
       "      <th>marital</th>\n",
       "      <th>education</th>\n",
       "      <th>default</th>\n",
       "      <th>balance</th>\n",
       "      <th>housing</th>\n",
       "      <th>loan</th>\n",
       "      <th>contact</th>\n",
       "      <th>day</th>\n",
       "      <th>month</th>\n",
       "      <th>duration</th>\n",
       "      <th>campaign</th>\n",
       "      <th>pdays</th>\n",
       "      <th>previous</th>\n",
       "      <th>poutcome</th>\n",
       "      <th>y</th>\n",
       "    </tr>\n",
       "  </thead>\n",
       "  <tbody>\n",
       "    <tr>\n",
       "      <th>0</th>\n",
       "      <td>30</td>\n",
       "      <td>unemployed</td>\n",
       "      <td>married</td>\n",
       "      <td>primary</td>\n",
       "      <td>no</td>\n",
       "      <td>1787</td>\n",
       "      <td>no</td>\n",
       "      <td>no</td>\n",
       "      <td>cellular</td>\n",
       "      <td>19</td>\n",
       "      <td>oct</td>\n",
       "      <td>79</td>\n",
       "      <td>1</td>\n",
       "      <td>-1</td>\n",
       "      <td>0</td>\n",
       "      <td>unknown</td>\n",
       "      <td>no</td>\n",
       "    </tr>\n",
       "    <tr>\n",
       "      <th>1</th>\n",
       "      <td>33</td>\n",
       "      <td>services</td>\n",
       "      <td>married</td>\n",
       "      <td>secondary</td>\n",
       "      <td>no</td>\n",
       "      <td>4789</td>\n",
       "      <td>yes</td>\n",
       "      <td>yes</td>\n",
       "      <td>cellular</td>\n",
       "      <td>11</td>\n",
       "      <td>may</td>\n",
       "      <td>220</td>\n",
       "      <td>1</td>\n",
       "      <td>339</td>\n",
       "      <td>4</td>\n",
       "      <td>failure</td>\n",
       "      <td>no</td>\n",
       "    </tr>\n",
       "    <tr>\n",
       "      <th>2</th>\n",
       "      <td>35</td>\n",
       "      <td>management</td>\n",
       "      <td>single</td>\n",
       "      <td>tertiary</td>\n",
       "      <td>no</td>\n",
       "      <td>1350</td>\n",
       "      <td>yes</td>\n",
       "      <td>no</td>\n",
       "      <td>cellular</td>\n",
       "      <td>16</td>\n",
       "      <td>apr</td>\n",
       "      <td>185</td>\n",
       "      <td>1</td>\n",
       "      <td>330</td>\n",
       "      <td>1</td>\n",
       "      <td>failure</td>\n",
       "      <td>no</td>\n",
       "    </tr>\n",
       "    <tr>\n",
       "      <th>3</th>\n",
       "      <td>30</td>\n",
       "      <td>management</td>\n",
       "      <td>married</td>\n",
       "      <td>tertiary</td>\n",
       "      <td>no</td>\n",
       "      <td>1476</td>\n",
       "      <td>yes</td>\n",
       "      <td>yes</td>\n",
       "      <td>unknown</td>\n",
       "      <td>3</td>\n",
       "      <td>jun</td>\n",
       "      <td>199</td>\n",
       "      <td>4</td>\n",
       "      <td>-1</td>\n",
       "      <td>0</td>\n",
       "      <td>unknown</td>\n",
       "      <td>no</td>\n",
       "    </tr>\n",
       "    <tr>\n",
       "      <th>4</th>\n",
       "      <td>59</td>\n",
       "      <td>blue-collar</td>\n",
       "      <td>married</td>\n",
       "      <td>secondary</td>\n",
       "      <td>no</td>\n",
       "      <td>0</td>\n",
       "      <td>yes</td>\n",
       "      <td>no</td>\n",
       "      <td>unknown</td>\n",
       "      <td>5</td>\n",
       "      <td>may</td>\n",
       "      <td>226</td>\n",
       "      <td>1</td>\n",
       "      <td>-1</td>\n",
       "      <td>0</td>\n",
       "      <td>unknown</td>\n",
       "      <td>no</td>\n",
       "    </tr>\n",
       "  </tbody>\n",
       "</table>\n",
       "</div>"
      ],
      "text/plain": [
       "   age          job  marital  education default  balance housing loan  \\\n",
       "0   30   unemployed  married    primary      no     1787      no   no   \n",
       "1   33     services  married  secondary      no     4789     yes  yes   \n",
       "2   35   management   single   tertiary      no     1350     yes   no   \n",
       "3   30   management  married   tertiary      no     1476     yes  yes   \n",
       "4   59  blue-collar  married  secondary      no        0     yes   no   \n",
       "\n",
       "    contact  day month  duration  campaign  pdays  previous poutcome   y  \n",
       "0  cellular   19   oct        79         1     -1         0  unknown  no  \n",
       "1  cellular   11   may       220         1    339         4  failure  no  \n",
       "2  cellular   16   apr       185         1    330         1  failure  no  \n",
       "3   unknown    3   jun       199         4     -1         0  unknown  no  \n",
       "4   unknown    5   may       226         1     -1         0  unknown  no  "
      ]
     },
     "execution_count": 81,
     "metadata": {},
     "output_type": "execute_result"
    }
   ],
   "source": [
    "mkt_df.head()"
   ]
  },
  {
   "cell_type": "code",
   "execution_count": 82,
   "id": "44fb2736",
   "metadata": {},
   "outputs": [
    {
     "name": "stdout",
     "output_type": "stream",
     "text": [
      "<class 'pandas.core.frame.DataFrame'>\n",
      "RangeIndex: 4521 entries, 0 to 4520\n",
      "Data columns (total 17 columns):\n",
      " #   Column     Non-Null Count  Dtype \n",
      "---  ------     --------------  ----- \n",
      " 0   age        4521 non-null   int64 \n",
      " 1   job        4521 non-null   object\n",
      " 2   marital    4521 non-null   object\n",
      " 3   education  4521 non-null   object\n",
      " 4   default    4521 non-null   object\n",
      " 5   balance    4521 non-null   int64 \n",
      " 6   housing    4521 non-null   object\n",
      " 7   loan       4521 non-null   object\n",
      " 8   contact    4521 non-null   object\n",
      " 9   day        4521 non-null   int64 \n",
      " 10  month      4521 non-null   object\n",
      " 11  duration   4521 non-null   int64 \n",
      " 12  campaign   4521 non-null   int64 \n",
      " 13  pdays      4521 non-null   int64 \n",
      " 14  previous   4521 non-null   int64 \n",
      " 15  poutcome   4521 non-null   object\n",
      " 16  y          4521 non-null   object\n",
      "dtypes: int64(7), object(10)\n",
      "memory usage: 600.6+ KB\n"
     ]
    }
   ],
   "source": [
    "mkt_df.info()"
   ]
  },
  {
   "cell_type": "code",
   "execution_count": 83,
   "id": "00549a5c",
   "metadata": {},
   "outputs": [
    {
     "data": {
      "text/plain": [
       "(4521, 17)"
      ]
     },
     "execution_count": 83,
     "metadata": {},
     "output_type": "execute_result"
    }
   ],
   "source": [
    "mkt_df.shape"
   ]
  },
  {
   "cell_type": "code",
   "execution_count": 84,
   "id": "e46f5790",
   "metadata": {},
   "outputs": [
    {
     "data": {
      "text/html": [
       "<div>\n",
       "<style scoped>\n",
       "    .dataframe tbody tr th:only-of-type {\n",
       "        vertical-align: middle;\n",
       "    }\n",
       "\n",
       "    .dataframe tbody tr th {\n",
       "        vertical-align: top;\n",
       "    }\n",
       "\n",
       "    .dataframe thead th {\n",
       "        text-align: right;\n",
       "    }\n",
       "</style>\n",
       "<table border=\"1\" class=\"dataframe\">\n",
       "  <thead>\n",
       "    <tr style=\"text-align: right;\">\n",
       "      <th></th>\n",
       "      <th>age</th>\n",
       "      <th>balance</th>\n",
       "      <th>day</th>\n",
       "      <th>duration</th>\n",
       "      <th>campaign</th>\n",
       "      <th>pdays</th>\n",
       "      <th>previous</th>\n",
       "    </tr>\n",
       "  </thead>\n",
       "  <tbody>\n",
       "    <tr>\n",
       "      <th>count</th>\n",
       "      <td>4521.000000</td>\n",
       "      <td>4521.000000</td>\n",
       "      <td>4521.000000</td>\n",
       "      <td>4521.000000</td>\n",
       "      <td>4521.000000</td>\n",
       "      <td>4521.000000</td>\n",
       "      <td>4521.000000</td>\n",
       "    </tr>\n",
       "    <tr>\n",
       "      <th>mean</th>\n",
       "      <td>41.170095</td>\n",
       "      <td>1422.657819</td>\n",
       "      <td>15.915284</td>\n",
       "      <td>263.961292</td>\n",
       "      <td>2.793630</td>\n",
       "      <td>39.766645</td>\n",
       "      <td>0.542579</td>\n",
       "    </tr>\n",
       "    <tr>\n",
       "      <th>std</th>\n",
       "      <td>10.576211</td>\n",
       "      <td>3009.638142</td>\n",
       "      <td>8.247667</td>\n",
       "      <td>259.856633</td>\n",
       "      <td>3.109807</td>\n",
       "      <td>100.121124</td>\n",
       "      <td>1.693562</td>\n",
       "    </tr>\n",
       "    <tr>\n",
       "      <th>min</th>\n",
       "      <td>19.000000</td>\n",
       "      <td>-3313.000000</td>\n",
       "      <td>1.000000</td>\n",
       "      <td>4.000000</td>\n",
       "      <td>1.000000</td>\n",
       "      <td>-1.000000</td>\n",
       "      <td>0.000000</td>\n",
       "    </tr>\n",
       "    <tr>\n",
       "      <th>25%</th>\n",
       "      <td>33.000000</td>\n",
       "      <td>69.000000</td>\n",
       "      <td>9.000000</td>\n",
       "      <td>104.000000</td>\n",
       "      <td>1.000000</td>\n",
       "      <td>-1.000000</td>\n",
       "      <td>0.000000</td>\n",
       "    </tr>\n",
       "    <tr>\n",
       "      <th>50%</th>\n",
       "      <td>39.000000</td>\n",
       "      <td>444.000000</td>\n",
       "      <td>16.000000</td>\n",
       "      <td>185.000000</td>\n",
       "      <td>2.000000</td>\n",
       "      <td>-1.000000</td>\n",
       "      <td>0.000000</td>\n",
       "    </tr>\n",
       "    <tr>\n",
       "      <th>75%</th>\n",
       "      <td>49.000000</td>\n",
       "      <td>1480.000000</td>\n",
       "      <td>21.000000</td>\n",
       "      <td>329.000000</td>\n",
       "      <td>3.000000</td>\n",
       "      <td>-1.000000</td>\n",
       "      <td>0.000000</td>\n",
       "    </tr>\n",
       "    <tr>\n",
       "      <th>max</th>\n",
       "      <td>87.000000</td>\n",
       "      <td>71188.000000</td>\n",
       "      <td>31.000000</td>\n",
       "      <td>3025.000000</td>\n",
       "      <td>50.000000</td>\n",
       "      <td>871.000000</td>\n",
       "      <td>25.000000</td>\n",
       "    </tr>\n",
       "  </tbody>\n",
       "</table>\n",
       "</div>"
      ],
      "text/plain": [
       "               age       balance          day     duration     campaign  \\\n",
       "count  4521.000000   4521.000000  4521.000000  4521.000000  4521.000000   \n",
       "mean     41.170095   1422.657819    15.915284   263.961292     2.793630   \n",
       "std      10.576211   3009.638142     8.247667   259.856633     3.109807   \n",
       "min      19.000000  -3313.000000     1.000000     4.000000     1.000000   \n",
       "25%      33.000000     69.000000     9.000000   104.000000     1.000000   \n",
       "50%      39.000000    444.000000    16.000000   185.000000     2.000000   \n",
       "75%      49.000000   1480.000000    21.000000   329.000000     3.000000   \n",
       "max      87.000000  71188.000000    31.000000  3025.000000    50.000000   \n",
       "\n",
       "             pdays     previous  \n",
       "count  4521.000000  4521.000000  \n",
       "mean     39.766645     0.542579  \n",
       "std     100.121124     1.693562  \n",
       "min      -1.000000     0.000000  \n",
       "25%      -1.000000     0.000000  \n",
       "50%      -1.000000     0.000000  \n",
       "75%      -1.000000     0.000000  \n",
       "max     871.000000    25.000000  "
      ]
     },
     "execution_count": 84,
     "metadata": {},
     "output_type": "execute_result"
    }
   ],
   "source": [
    "mkt_df.describe()"
   ]
  },
  {
   "cell_type": "code",
   "execution_count": 85,
   "id": "2dcaca0f",
   "metadata": {},
   "outputs": [
    {
     "data": {
      "text/plain": [
       "management       969\n",
       "blue-collar      946\n",
       "technician       768\n",
       "admin.           478\n",
       "services         417\n",
       "retired          230\n",
       "self-employed    183\n",
       "entrepreneur     168\n",
       "unemployed       128\n",
       "housemaid        112\n",
       "student           84\n",
       "unknown           38\n",
       "Name: job, dtype: int64"
      ]
     },
     "execution_count": 85,
     "metadata": {},
     "output_type": "execute_result"
    }
   ],
   "source": [
    "mkt_df.job.value_counts()"
   ]
  },
  {
   "cell_type": "markdown",
   "id": "86c1dd0e",
   "metadata": {},
   "source": [
    "# Central tendencies and variability in the data\n",
    "* I will calculate mean, mode and Standard Deviation of Age so as to know the Age range that took the campagin mostly. I     will need it in my subset later.\n",
    "* I will calculate the mean and Standard deviation of the balance, I want to know the likehood of who can susbscribe\n",
    "* I will calculate the mean and standard Deviation of the duration to ascertain the time spent on each person during the call and to know the time spread. Note that duration is in seconds (numeric)"
   ]
  },
  {
   "cell_type": "code",
   "execution_count": 86,
   "id": "acddd5a6",
   "metadata": {},
   "outputs": [
    {
     "name": "stdout",
     "output_type": "stream",
     "text": [
      "41.17009511170095\n"
     ]
    }
   ],
   "source": [
    "mean_age = mkt_df['age'].mean()\n",
    "print(mean_age)"
   ]
  },
  {
   "cell_type": "code",
   "execution_count": 87,
   "id": "aeca8824",
   "metadata": {},
   "outputs": [
    {
     "name": "stdout",
     "output_type": "stream",
     "text": [
      "         age\n",
      "0  10.576211\n"
     ]
    },
    {
     "name": "stderr",
     "output_type": "stream",
     "text": [
      "C:\\Users\\Vicro\\AppData\\Local\\Temp\\ipykernel_23156\\3283950600.py:1: FutureWarning: The default value of numeric_only in DataFrame.std is deprecated. In a future version, it will default to False. In addition, specifying 'numeric_only=None' is deprecated. Select only valid columns or specify the value of numeric_only to silence this warning.\n",
      "  standard_dev = pd.DataFrame(mkt_df.iloc[:, 0:2].std().to_frame()).T\n"
     ]
    }
   ],
   "source": [
    "standard_dev = pd.DataFrame(mkt_df.iloc[:, 0:2].std().to_frame()).T\n",
    "print(standard_dev)"
   ]
  },
  {
   "cell_type": "code",
   "execution_count": 88,
   "id": "60646207",
   "metadata": {},
   "outputs": [
    {
     "name": "stdout",
     "output_type": "stream",
     "text": [
      "0    34\n",
      "Name: age, dtype: int64\n"
     ]
    }
   ],
   "source": [
    "mode_age = mkt_df['age'].mode()\n",
    "print(mode_age)"
   ]
  },
  {
   "cell_type": "code",
   "execution_count": 89,
   "id": "5e8bab95",
   "metadata": {},
   "outputs": [
    {
     "name": "stdout",
     "output_type": "stream",
     "text": [
      "39.0\n"
     ]
    }
   ],
   "source": [
    "median_age = mkt_df['age'].median()\n",
    "print(median_age)"
   ]
  },
  {
   "cell_type": "code",
   "execution_count": 90,
   "id": "ce5eabca",
   "metadata": {},
   "outputs": [
    {
     "name": "stdout",
     "output_type": "stream",
     "text": [
      "1422.6578190665782\n"
     ]
    }
   ],
   "source": [
    "mean_balance = mkt_df['balance'].mean()\n",
    "print(mean_balance)"
   ]
  },
  {
   "cell_type": "code",
   "execution_count": 165,
   "id": "63da0cd5",
   "metadata": {},
   "outputs": [
    {
     "name": "stdout",
     "output_type": "stream",
     "text": [
      "<bound method Series.mode of 0       1787\n",
      "1       4789\n",
      "2       1350\n",
      "3       1476\n",
      "4          0\n",
      "        ... \n",
      "4516    -333\n",
      "4517   -3313\n",
      "4518     295\n",
      "4519    1137\n",
      "4520    1136\n",
      "Name: balance, Length: 4521, dtype: int64>\n"
     ]
    }
   ],
   "source": [
    "mode_balance = mkt_df['balance'].mode\n",
    "print(mode_balance)"
   ]
  },
  {
   "cell_type": "code",
   "execution_count": 93,
   "id": "b41397b0",
   "metadata": {},
   "outputs": [
    {
     "name": "stdout",
     "output_type": "stream",
     "text": [
      "         age      balance\n",
      "0  10.576211  3009.638142\n"
     ]
    },
    {
     "name": "stderr",
     "output_type": "stream",
     "text": [
      "C:\\Users\\Vicro\\AppData\\Local\\Temp\\ipykernel_23156\\1587933111.py:1: FutureWarning: The default value of numeric_only in DataFrame.std is deprecated. In a future version, it will default to False. In addition, specifying 'numeric_only=None' is deprecated. Select only valid columns or specify the value of numeric_only to silence this warning.\n",
      "  SD_ageBal = pd.DataFrame(mkt_df.iloc[:, 0:6].std().to_frame()).T\n"
     ]
    }
   ],
   "source": [
    "SD_ageBal = pd.DataFrame(mkt_df.iloc[:, 0:6].std().to_frame()).T\n",
    "print(SD_ageBal)"
   ]
  },
  {
   "cell_type": "code",
   "execution_count": 94,
   "id": "ef271b5d",
   "metadata": {},
   "outputs": [
    {
     "name": "stdout",
     "output_type": "stream",
     "text": [
      "263.96129174961294\n"
     ]
    }
   ],
   "source": [
    "mean_duration = mkt_df['duration'].mean()\n",
    "print(mean_duration)"
   ]
  },
  {
   "cell_type": "code",
   "execution_count": 105,
   "id": "a1355a10",
   "metadata": {},
   "outputs": [
    {
     "name": "stdout",
     "output_type": "stream",
     "text": [
      "259.85663262468245\n"
     ]
    }
   ],
   "source": [
    "standard_dev_duration = mkt_df['duration'].std()\n",
    "print(standard_dev_duration)"
   ]
  },
  {
   "cell_type": "code",
   "execution_count": 91,
   "id": "273681b1",
   "metadata": {},
   "outputs": [
    {
     "name": "stderr",
     "output_type": "stream",
     "text": [
      "C:\\Users\\Vicro\\AppData\\Local\\Temp\\ipykernel_23156\\4046571589.py:1: FutureWarning: The default value of numeric_only in DataFrame.std is deprecated. In a future version, it will default to False. In addition, specifying 'numeric_only=None' is deprecated. Select only valid columns or specify the value of numeric_only to silence this warning.\n",
      "  pd.DataFrame(mkt_df.iloc[:, 0:10].std().to_frame()).T\n"
     ]
    },
    {
     "data": {
      "text/html": [
       "<div>\n",
       "<style scoped>\n",
       "    .dataframe tbody tr th:only-of-type {\n",
       "        vertical-align: middle;\n",
       "    }\n",
       "\n",
       "    .dataframe tbody tr th {\n",
       "        vertical-align: top;\n",
       "    }\n",
       "\n",
       "    .dataframe thead th {\n",
       "        text-align: right;\n",
       "    }\n",
       "</style>\n",
       "<table border=\"1\" class=\"dataframe\">\n",
       "  <thead>\n",
       "    <tr style=\"text-align: right;\">\n",
       "      <th></th>\n",
       "      <th>age</th>\n",
       "      <th>balance</th>\n",
       "      <th>day</th>\n",
       "    </tr>\n",
       "  </thead>\n",
       "  <tbody>\n",
       "    <tr>\n",
       "      <th>0</th>\n",
       "      <td>10.576211</td>\n",
       "      <td>3009.638142</td>\n",
       "      <td>8.247667</td>\n",
       "    </tr>\n",
       "  </tbody>\n",
       "</table>\n",
       "</div>"
      ],
      "text/plain": [
       "         age      balance       day\n",
       "0  10.576211  3009.638142  8.247667"
      ]
     },
     "execution_count": 91,
     "metadata": {},
     "output_type": "execute_result"
    }
   ],
   "source": [
    "pd.DataFrame(mkt_df.iloc[:, 0:10].std().to_frame()).T\n",
    "print(standard_dev)"
   ]
  },
  {
   "cell_type": "markdown",
   "id": "74e5bbed",
   "metadata": {},
   "source": [
    "# Visualisation of AGE AND BALANCE .."
   ]
  },
  {
   "cell_type": "code",
   "execution_count": 106,
   "id": "fbd1f2d2",
   "metadata": {},
   "outputs": [
    {
     "data": {
      "text/plain": [
       "[Text(0.5, 0, 'Age'),\n",
       " Text(0, 0.5, 'Distribution'),\n",
       " Text(0.5, 1.0, 'Age Distribution Histogram')]"
      ]
     },
     "execution_count": 106,
     "metadata": {},
     "output_type": "execute_result"
    },
    {
     "data": {
      "image/png": "[encoded data removed]",
      "text/plain": [
       "<Figure size 640x480 with 1 Axes>"
      ]
     },
     "metadata": {},
     "output_type": "display_data"
    }
   ],
   "source": [
    "hs = sns.histplot(mkt_df.age, kde = True, color='black')\n",
    "hs.set(xlabel='Age' , ylabel='Distribution' , title='Age Distribution Histogram')"
   ]
  },
  {
   "cell_type": "code",
   "execution_count": 107,
   "id": "f71cc495",
   "metadata": {},
   "outputs": [
    {
     "data": {
      "image/png": "[encoded data removed]",
      "text/plain": [
       "<Figure size 600x400 with 1 Axes>"
      ]
     },
     "metadata": {},
     "output_type": "display_data"
    }
   ],
   "source": [
    "plt.figure(figsize=(6, 4))\n",
    "sns.boxplot(data=mkt_df, orient='h', color='skyblue')\n",
    "plt.xlabel('Balance')\n",
    "plt.title('Boxplot of Balance')\n",
    "plt.show()"
   ]
  },
  {
   "cell_type": "code",
   "execution_count": 108,
   "id": "4503badf",
   "metadata": {
    "scrolled": false
   },
   "outputs": [
    {
     "data": {
      "image/png": "[encoded data removed]",
      "text/plain": [
       "<Figure size 640x480 with 1 Axes>"
      ]
     },
     "metadata": {},
     "output_type": "display_data"
    }
   ],
   "source": [
    "sns.boxplot(x = 'balance', data = mkt_df)\n",
    "plt.title('Box plot Administration' , fontsize = 17)\n",
    "plt.legend([], [], frameon= False)\n",
    "plt.show()"
   ]
  },
  {
   "cell_type": "code",
   "execution_count": 109,
   "id": "68ea089f",
   "metadata": {},
   "outputs": [
    {
     "data": {
      "image/png": "[encoded data removed]",
      "text/plain": [
       "<Figure size 640x480 with 1 Axes>"
      ]
     },
     "metadata": {},
     "output_type": "display_data"
    }
   ],
   "source": [
    "sns.boxplot(x = 'education', y= 'balance', data = mkt_df, hue = 'education')\n",
    "plt.title('Box plot Administration' , fontsize = 17)\n",
    "plt.legend([], [], frameon= False)\n",
    "plt.show()"
   ]
  },
  {
   "cell_type": "code",
   "execution_count": 110,
   "id": "047a9d63",
   "metadata": {
    "scrolled": false
   },
   "outputs": [
    {
     "data": {
      "image/png": "[encoded data removed]",
      "text/plain": [
       "<Figure size 640x480 with 1 Axes>"
      ]
     },
     "metadata": {},
     "output_type": "display_data"
    }
   ],
   "source": [
    "sns.boxplot(x = 'marital', y= 'balance', data = mkt_df, hue = 'marital')\n",
    "plt.title('Box plot Administration' , fontsize = 17)\n",
    "plt.legend([], [], frameon= False)\n",
    "plt.show()"
   ]
  },
  {
   "cell_type": "markdown",
   "id": "d02eae44",
   "metadata": {},
   "source": [
    "### My Observations will be written in my report, But the most important reason for this visualisation is that, balance have a significant determinant on customers subscribing to long term deposit again their education, marital status. "
   ]
  },
  {
   "cell_type": "markdown",
   "id": "efa8937d",
   "metadata": {},
   "source": [
    "# I choose to calculate the probabilities of  Education, Marital, Housing loan and Loan. These might affect the success of a marketing Campaign. "
   ]
  },
  {
   "cell_type": "code",
   "execution_count": 116,
   "id": "73812a41",
   "metadata": {},
   "outputs": [
    {
     "data": {
      "text/plain": [
       "secondary    2306\n",
       "tertiary     1350\n",
       "primary       678\n",
       "unknown       187\n",
       "Name: education, dtype: int64"
      ]
     },
     "execution_count": 116,
     "metadata": {},
     "output_type": "execute_result"
    }
   ],
   "source": [
    "mkt_df.education.value_counts()"
   ]
  },
  {
   "cell_type": "code",
   "execution_count": 118,
   "id": "4bb3a5ff",
   "metadata": {},
   "outputs": [
    {
     "data": {
      "text/plain": [
       "secondary    0.510064\n",
       "tertiary     0.298607\n",
       "primary      0.149967\n",
       "unknown      0.041363\n",
       "Name: education, dtype: float64"
      ]
     },
     "execution_count": 118,
     "metadata": {},
     "output_type": "execute_result"
    }
   ],
   "source": [
    "value_counts = mkt_df['education'].value_counts()\n",
    "relative_frequencies = value_counts/len(mkt_df)\n",
    "\n",
    "relative_frequencies"
   ]
  },
  {
   "cell_type": "code",
   "execution_count": 119,
   "id": "e8ca1997",
   "metadata": {},
   "outputs": [
    {
     "data": {
      "text/html": [
       "<div>\n",
       "<style scoped>\n",
       "    .dataframe tbody tr th:only-of-type {\n",
       "        vertical-align: middle;\n",
       "    }\n",
       "\n",
       "    .dataframe tbody tr th {\n",
       "        vertical-align: top;\n",
       "    }\n",
       "\n",
       "    .dataframe thead th {\n",
       "        text-align: right;\n",
       "    }\n",
       "</style>\n",
       "<table border=\"1\" class=\"dataframe\">\n",
       "  <thead>\n",
       "    <tr style=\"text-align: right;\">\n",
       "      <th></th>\n",
       "      <th>education</th>\n",
       "      <th>Frequency</th>\n",
       "      <th>Relative Frequency</th>\n",
       "    </tr>\n",
       "  </thead>\n",
       "  <tbody>\n",
       "    <tr>\n",
       "      <th>0</th>\n",
       "      <td>secondary</td>\n",
       "      <td>2306</td>\n",
       "      <td>0.510064</td>\n",
       "    </tr>\n",
       "    <tr>\n",
       "      <th>1</th>\n",
       "      <td>tertiary</td>\n",
       "      <td>1350</td>\n",
       "      <td>0.298607</td>\n",
       "    </tr>\n",
       "    <tr>\n",
       "      <th>2</th>\n",
       "      <td>primary</td>\n",
       "      <td>678</td>\n",
       "      <td>0.149967</td>\n",
       "    </tr>\n",
       "    <tr>\n",
       "      <th>3</th>\n",
       "      <td>unknown</td>\n",
       "      <td>187</td>\n",
       "      <td>0.041363</td>\n",
       "    </tr>\n",
       "  </tbody>\n",
       "</table>\n",
       "</div>"
      ],
      "text/plain": [
       "   education  Frequency  Relative Frequency\n",
       "0  secondary       2306            0.510064\n",
       "1   tertiary       1350            0.298607\n",
       "2    primary        678            0.149967\n",
       "3    unknown        187            0.041363"
      ]
     },
     "execution_count": 119,
     "metadata": {},
     "output_type": "execute_result"
    }
   ],
   "source": [
    "# I will create the subtable to find the relative frequency\n",
    "\n",
    "subtable = pd.DataFrame({'education': value_counts.index,\n",
    "                          'Frequency' : value_counts.values,\n",
    "                          'Relative Frequency' : relative_frequencies.values})\n",
    "subtable"
   ]
  },
  {
   "cell_type": "code",
   "execution_count": 120,
   "id": "581bc5e6",
   "metadata": {},
   "outputs": [
    {
     "data": {
      "text/plain": [
       "married     2797\n",
       "single      1196\n",
       "divorced     528\n",
       "Name: marital, dtype: int64"
      ]
     },
     "execution_count": 120,
     "metadata": {},
     "output_type": "execute_result"
    }
   ],
   "source": [
    "mkt_df.marital.value_counts()"
   ]
  },
  {
   "cell_type": "code",
   "execution_count": 121,
   "id": "f4da5034",
   "metadata": {
    "scrolled": true
   },
   "outputs": [
    {
     "data": {
      "text/plain": [
       "married     0.618668\n",
       "single      0.264543\n",
       "divorced    0.116788\n",
       "Name: marital, dtype: float64"
      ]
     },
     "execution_count": 121,
     "metadata": {},
     "output_type": "execute_result"
    }
   ],
   "source": [
    "value_counts = mkt_df['marital'].value_counts()\n",
    "relative_frequencies = value_counts/len(mkt_df)\n",
    "\n",
    "relative_frequencies"
   ]
  },
  {
   "cell_type": "code",
   "execution_count": 122,
   "id": "c2fe98d5",
   "metadata": {
    "scrolled": true
   },
   "outputs": [
    {
     "data": {
      "text/html": [
       "<div>\n",
       "<style scoped>\n",
       "    .dataframe tbody tr th:only-of-type {\n",
       "        vertical-align: middle;\n",
       "    }\n",
       "\n",
       "    .dataframe tbody tr th {\n",
       "        vertical-align: top;\n",
       "    }\n",
       "\n",
       "    .dataframe thead th {\n",
       "        text-align: right;\n",
       "    }\n",
       "</style>\n",
       "<table border=\"1\" class=\"dataframe\">\n",
       "  <thead>\n",
       "    <tr style=\"text-align: right;\">\n",
       "      <th></th>\n",
       "      <th>marital</th>\n",
       "      <th>Frequency</th>\n",
       "      <th>Relative Frequency</th>\n",
       "    </tr>\n",
       "  </thead>\n",
       "  <tbody>\n",
       "    <tr>\n",
       "      <th>0</th>\n",
       "      <td>married</td>\n",
       "      <td>2797</td>\n",
       "      <td>0.618668</td>\n",
       "    </tr>\n",
       "    <tr>\n",
       "      <th>1</th>\n",
       "      <td>single</td>\n",
       "      <td>1196</td>\n",
       "      <td>0.264543</td>\n",
       "    </tr>\n",
       "    <tr>\n",
       "      <th>2</th>\n",
       "      <td>divorced</td>\n",
       "      <td>528</td>\n",
       "      <td>0.116788</td>\n",
       "    </tr>\n",
       "  </tbody>\n",
       "</table>\n",
       "</div>"
      ],
      "text/plain": [
       "    marital  Frequency  Relative Frequency\n",
       "0   married       2797            0.618668\n",
       "1    single       1196            0.264543\n",
       "2  divorced        528            0.116788"
      ]
     },
     "execution_count": 122,
     "metadata": {},
     "output_type": "execute_result"
    }
   ],
   "source": [
    "subtable = pd.DataFrame({'marital': value_counts.index,\n",
    "                          'Frequency' : value_counts.values,\n",
    "                          'Relative Frequency' : relative_frequencies.values})\n",
    "subtable"
   ]
  },
  {
   "cell_type": "code",
   "execution_count": 123,
   "id": "6418c331",
   "metadata": {},
   "outputs": [
    {
     "data": {
      "text/plain": [
       "yes    2559\n",
       "no     1962\n",
       "Name: housing, dtype: int64"
      ]
     },
     "execution_count": 123,
     "metadata": {},
     "output_type": "execute_result"
    }
   ],
   "source": [
    "mkt_df.housing.value_counts()"
   ]
  },
  {
   "cell_type": "code",
   "execution_count": 127,
   "id": "a500f026",
   "metadata": {},
   "outputs": [
    {
     "data": {
      "text/plain": [
       "yes    0.566025\n",
       "no     0.433975\n",
       "Name: housing, dtype: float64"
      ]
     },
     "execution_count": 127,
     "metadata": {},
     "output_type": "execute_result"
    }
   ],
   "source": [
    "value_counts = mkt_df['housing'].value_counts()\n",
    "relative_frequencies = value_counts/len(mkt_df)\n",
    "\n",
    "relative_frequencies"
   ]
  },
  {
   "cell_type": "code",
   "execution_count": 128,
   "id": "b9bd335a",
   "metadata": {},
   "outputs": [
    {
     "data": {
      "text/html": [
       "<div>\n",
       "<style scoped>\n",
       "    .dataframe tbody tr th:only-of-type {\n",
       "        vertical-align: middle;\n",
       "    }\n",
       "\n",
       "    .dataframe tbody tr th {\n",
       "        vertical-align: top;\n",
       "    }\n",
       "\n",
       "    .dataframe thead th {\n",
       "        text-align: right;\n",
       "    }\n",
       "</style>\n",
       "<table border=\"1\" class=\"dataframe\">\n",
       "  <thead>\n",
       "    <tr style=\"text-align: right;\">\n",
       "      <th></th>\n",
       "      <th>housing</th>\n",
       "      <th>Frequency</th>\n",
       "      <th>Relative Frequency</th>\n",
       "    </tr>\n",
       "  </thead>\n",
       "  <tbody>\n",
       "    <tr>\n",
       "      <th>0</th>\n",
       "      <td>yes</td>\n",
       "      <td>2559</td>\n",
       "      <td>0.566025</td>\n",
       "    </tr>\n",
       "    <tr>\n",
       "      <th>1</th>\n",
       "      <td>no</td>\n",
       "      <td>1962</td>\n",
       "      <td>0.433975</td>\n",
       "    </tr>\n",
       "  </tbody>\n",
       "</table>\n",
       "</div>"
      ],
      "text/plain": [
       "  housing  Frequency  Relative Frequency\n",
       "0     yes       2559            0.566025\n",
       "1      no       1962            0.433975"
      ]
     },
     "execution_count": 128,
     "metadata": {},
     "output_type": "execute_result"
    }
   ],
   "source": [
    "subtable = pd.DataFrame({'housing': value_counts.index,\n",
    "                          'Frequency' : value_counts.values,\n",
    "                          'Relative Frequency' : relative_frequencies.values})\n",
    "subtable"
   ]
  },
  {
   "cell_type": "code",
   "execution_count": 129,
   "id": "963a7739",
   "metadata": {},
   "outputs": [
    {
     "data": {
      "text/plain": [
       "no     3830\n",
       "yes     691\n",
       "Name: loan, dtype: int64"
      ]
     },
     "execution_count": 129,
     "metadata": {},
     "output_type": "execute_result"
    }
   ],
   "source": [
    "mkt_df.loan.value_counts()"
   ]
  },
  {
   "cell_type": "code",
   "execution_count": 130,
   "id": "8d298a77",
   "metadata": {},
   "outputs": [
    {
     "data": {
      "text/plain": [
       "no     0.847158\n",
       "yes    0.152842\n",
       "Name: loan, dtype: float64"
      ]
     },
     "execution_count": 130,
     "metadata": {},
     "output_type": "execute_result"
    }
   ],
   "source": [
    "value_counts = mkt_df['loan'].value_counts()\n",
    "relative_frequencies = value_counts/len(mkt_df)\n",
    "\n",
    "relative_frequencies"
   ]
  },
  {
   "cell_type": "code",
   "execution_count": 132,
   "id": "e485d35e",
   "metadata": {},
   "outputs": [
    {
     "data": {
      "text/html": [
       "<div>\n",
       "<style scoped>\n",
       "    .dataframe tbody tr th:only-of-type {\n",
       "        vertical-align: middle;\n",
       "    }\n",
       "\n",
       "    .dataframe tbody tr th {\n",
       "        vertical-align: top;\n",
       "    }\n",
       "\n",
       "    .dataframe thead th {\n",
       "        text-align: right;\n",
       "    }\n",
       "</style>\n",
       "<table border=\"1\" class=\"dataframe\">\n",
       "  <thead>\n",
       "    <tr style=\"text-align: right;\">\n",
       "      <th></th>\n",
       "      <th>loan</th>\n",
       "      <th>Frequency</th>\n",
       "      <th>Relative Frequency</th>\n",
       "    </tr>\n",
       "  </thead>\n",
       "  <tbody>\n",
       "    <tr>\n",
       "      <th>0</th>\n",
       "      <td>no</td>\n",
       "      <td>3830</td>\n",
       "      <td>0.847158</td>\n",
       "    </tr>\n",
       "    <tr>\n",
       "      <th>1</th>\n",
       "      <td>yes</td>\n",
       "      <td>691</td>\n",
       "      <td>0.152842</td>\n",
       "    </tr>\n",
       "  </tbody>\n",
       "</table>\n",
       "</div>"
      ],
      "text/plain": [
       "  loan  Frequency  Relative Frequency\n",
       "0   no       3830            0.847158\n",
       "1  yes        691            0.152842"
      ]
     },
     "execution_count": 132,
     "metadata": {},
     "output_type": "execute_result"
    }
   ],
   "source": [
    "subtable = pd.DataFrame({'loan': value_counts.index,\n",
    "                          'Frequency' : value_counts.values,\n",
    "                          'Relative Frequency' : relative_frequencies.values})\n",
    "subtable"
   ]
  },
  {
   "cell_type": "code",
   "execution_count": 39,
   "id": "757572bf",
   "metadata": {
    "scrolled": true
   },
   "outputs": [
    {
     "name": "stderr",
     "output_type": "stream",
     "text": [
      "C:\\Users\\Vicro\\AppData\\Local\\Temp\\ipykernel_23156\\821035079.py:1: FutureWarning: The default value of numeric_only in DataFrameGroupBy.sum is deprecated. In a future version, numeric_only will default to False. Either specify numeric_only or select only columns which should be valid for the function.\n",
      "  data_locations = mkt_df.groupby('marital', axis = 0).sum()\n"
     ]
    },
    {
     "data": {
      "text/html": [
       "<div>\n",
       "<style scoped>\n",
       "    .dataframe tbody tr th:only-of-type {\n",
       "        vertical-align: middle;\n",
       "    }\n",
       "\n",
       "    .dataframe tbody tr th {\n",
       "        vertical-align: top;\n",
       "    }\n",
       "\n",
       "    .dataframe thead th {\n",
       "        text-align: right;\n",
       "    }\n",
       "</style>\n",
       "<table border=\"1\" class=\"dataframe\">\n",
       "  <thead>\n",
       "    <tr style=\"text-align: right;\">\n",
       "      <th></th>\n",
       "      <th>age</th>\n",
       "      <th>balance</th>\n",
       "      <th>day</th>\n",
       "      <th>duration</th>\n",
       "      <th>campaign</th>\n",
       "      <th>pdays</th>\n",
       "      <th>previous</th>\n",
       "    </tr>\n",
       "    <tr>\n",
       "      <th>marital</th>\n",
       "      <th></th>\n",
       "      <th></th>\n",
       "      <th></th>\n",
       "      <th></th>\n",
       "      <th></th>\n",
       "      <th></th>\n",
       "      <th></th>\n",
       "    </tr>\n",
       "  </thead>\n",
       "  <tbody>\n",
       "    <tr>\n",
       "      <th>divorced</th>\n",
       "      <td>24011</td>\n",
       "      <td>592622</td>\n",
       "      <td>8318</td>\n",
       "      <td>147435</td>\n",
       "      <td>1375</td>\n",
       "      <td>20501</td>\n",
       "      <td>232</td>\n",
       "    </tr>\n",
       "    <tr>\n",
       "      <th>married</th>\n",
       "      <td>121542</td>\n",
       "      <td>4092558</td>\n",
       "      <td>44489</td>\n",
       "      <td>717511</td>\n",
       "      <td>7964</td>\n",
       "      <td>107592</td>\n",
       "      <td>1452</td>\n",
       "    </tr>\n",
       "    <tr>\n",
       "      <th>single</th>\n",
       "      <td>40577</td>\n",
       "      <td>1746656</td>\n",
       "      <td>19146</td>\n",
       "      <td>328423</td>\n",
       "      <td>3291</td>\n",
       "      <td>51692</td>\n",
       "      <td>769</td>\n",
       "    </tr>\n",
       "  </tbody>\n",
       "</table>\n",
       "</div>"
      ],
      "text/plain": [
       "             age  balance    day  duration  campaign   pdays  previous\n",
       "marital                                                               \n",
       "divorced   24011   592622   8318    147435      1375   20501       232\n",
       "married   121542  4092558  44489    717511      7964  107592      1452\n",
       "single     40577  1746656  19146    328423      3291   51692       769"
      ]
     },
     "execution_count": 39,
     "metadata": {},
     "output_type": "execute_result"
    }
   ],
   "source": [
    "data_locations = mkt_df.groupby('marital', axis = 0).sum()\n",
    "data_locations"
   ]
  },
  {
   "cell_type": "code",
   "execution_count": 40,
   "id": "677940ca",
   "metadata": {},
   "outputs": [],
   "source": [
    "data_locations.reset_index(inplace=True)"
   ]
  },
  {
   "cell_type": "code",
   "execution_count": 41,
   "id": "a67667ce",
   "metadata": {},
   "outputs": [],
   "source": [
    "#rename columns\n",
    "data_locations.columns = ['marital','age','balance','day','duration','campaign','pdays','previous']"
   ]
  },
  {
   "cell_type": "code",
   "execution_count": 42,
   "id": "c8e0a7b0",
   "metadata": {},
   "outputs": [
    {
     "data": {
      "text/html": [
       "<div>\n",
       "<style scoped>\n",
       "    .dataframe tbody tr th:only-of-type {\n",
       "        vertical-align: middle;\n",
       "    }\n",
       "\n",
       "    .dataframe tbody tr th {\n",
       "        vertical-align: top;\n",
       "    }\n",
       "\n",
       "    .dataframe thead th {\n",
       "        text-align: right;\n",
       "    }\n",
       "</style>\n",
       "<table border=\"1\" class=\"dataframe\">\n",
       "  <thead>\n",
       "    <tr style=\"text-align: right;\">\n",
       "      <th></th>\n",
       "      <th>marital</th>\n",
       "      <th>age</th>\n",
       "      <th>balance</th>\n",
       "      <th>day</th>\n",
       "      <th>duration</th>\n",
       "      <th>campaign</th>\n",
       "      <th>pdays</th>\n",
       "      <th>previous</th>\n",
       "    </tr>\n",
       "  </thead>\n",
       "  <tbody>\n",
       "    <tr>\n",
       "      <th>0</th>\n",
       "      <td>divorced</td>\n",
       "      <td>24011</td>\n",
       "      <td>592622</td>\n",
       "      <td>8318</td>\n",
       "      <td>147435</td>\n",
       "      <td>1375</td>\n",
       "      <td>20501</td>\n",
       "      <td>232</td>\n",
       "    </tr>\n",
       "    <tr>\n",
       "      <th>1</th>\n",
       "      <td>married</td>\n",
       "      <td>121542</td>\n",
       "      <td>4092558</td>\n",
       "      <td>44489</td>\n",
       "      <td>717511</td>\n",
       "      <td>7964</td>\n",
       "      <td>107592</td>\n",
       "      <td>1452</td>\n",
       "    </tr>\n",
       "    <tr>\n",
       "      <th>2</th>\n",
       "      <td>single</td>\n",
       "      <td>40577</td>\n",
       "      <td>1746656</td>\n",
       "      <td>19146</td>\n",
       "      <td>328423</td>\n",
       "      <td>3291</td>\n",
       "      <td>51692</td>\n",
       "      <td>769</td>\n",
       "    </tr>\n",
       "  </tbody>\n",
       "</table>\n",
       "</div>"
      ],
      "text/plain": [
       "    marital     age  balance    day  duration  campaign   pdays  previous\n",
       "0  divorced   24011   592622   8318    147435      1375   20501       232\n",
       "1   married  121542  4092558  44489    717511      7964  107592      1452\n",
       "2    single   40577  1746656  19146    328423      3291   51692       769"
      ]
     },
     "execution_count": 42,
     "metadata": {},
     "output_type": "execute_result"
    }
   ],
   "source": [
    "data_locations"
   ]
  },
  {
   "cell_type": "markdown",
   "id": "2c0cfd5e",
   "metadata": {},
   "source": [
    "# To calculate the probability of Success, I will use the prvious frequency ('Y' varible) and the subset of the dataset.The subset will be the ranges of my Age mean +- Standard Deviation (41+-10)"
   ]
  },
  {
   "cell_type": "code",
   "execution_count": 133,
   "id": "af35423f",
   "metadata": {},
   "outputs": [
    {
     "name": "stdout",
     "output_type": "stream",
     "text": [
      "      age          job  marital  education default  balance housing loan  \\\n",
      "1      33     services  married  secondary      no     4789     yes  yes   \n",
      "2      35   management   single   tertiary      no     1350     yes   no   \n",
      "5      35   management   single   tertiary      no      747      no   no   \n",
      "38     33   management  married  secondary      no     3935     yes   no   \n",
      "45     34   management   single   tertiary      no      872     yes   no   \n",
      "...   ...          ...      ...        ...     ...      ...     ...  ...   \n",
      "4473   33   technician  married  secondary      no     4790     yes   no   \n",
      "4491   35  blue-collar   single  secondary      no        0     yes   no   \n",
      "4501   34   management  married   tertiary      no      297     yes   no   \n",
      "4507   33     services  married  secondary      no      288     yes   no   \n",
      "4516   33     services  married  secondary      no     -333     yes   no   \n",
      "\n",
      "       contact  day month  duration  campaign  pdays  previous poutcome    y  \n",
      "1     cellular   11   may       220         1    339         4  failure   no  \n",
      "2     cellular   16   apr       185         1    330         1  failure   no  \n",
      "5     cellular   23   feb       141         2    176         3  failure   no  \n",
      "38    cellular    6   may       765         1    342         2  failure  yes  \n",
      "45     unknown    7   may       105         2     -1         0  unknown   no  \n",
      "...        ...  ...   ...       ...       ...    ...       ...      ...  ...  \n",
      "4473  cellular   20   apr       137         1    272         2  failure   no  \n",
      "4491  cellular   16   apr       169         1     -1         0  unknown   no  \n",
      "4501  cellular   26   aug        63         4     -1         0  unknown   no  \n",
      "4507  cellular   17   apr       306         1     -1         0  unknown   no  \n",
      "4516  cellular   30   jul       329         5     -1         0  unknown   no  \n",
      "\n",
      "[597 rows x 17 columns]\n"
     ]
    }
   ],
   "source": [
    "age_range_subset = mkt_df[(mkt_df['age'] >= 33) & (mkt_df['age'] <= 35)]\n",
    "\n",
    "# Display the filtered subset\n",
    "print(age_range_subset)"
   ]
  },
  {
   "cell_type": "code",
   "execution_count": 134,
   "id": "2b7b92ac",
   "metadata": {},
   "outputs": [
    {
     "data": {
      "text/plain": [
       "no     4000\n",
       "yes     521\n",
       "Name: y, dtype: int64"
      ]
     },
     "execution_count": 134,
     "metadata": {},
     "output_type": "execute_result"
    }
   ],
   "source": [
    "mkt_df.y.value_counts()"
   ]
  },
  {
   "cell_type": "code",
   "execution_count": 137,
   "id": "14a1b82a",
   "metadata": {},
   "outputs": [
    {
     "name": "stdout",
     "output_type": "stream",
     "text": [
      "Probability of Success: 0.11523999115239991\n"
     ]
    }
   ],
   "source": [
    "total_cases = 4521\n",
    "favourable_cases = 521 \n",
    "probability_of_success = favourable_cases / total_cases\n",
    "\n",
    "print(\"Probability of Success:\", probability_of_success)"
   ]
  },
  {
   "cell_type": "code",
   "execution_count": 138,
   "id": "63adbefd",
   "metadata": {},
   "outputs": [
    {
     "data": {
      "text/html": [
       "<div>\n",
       "<style scoped>\n",
       "    .dataframe tbody tr th:only-of-type {\n",
       "        vertical-align: middle;\n",
       "    }\n",
       "\n",
       "    .dataframe tbody tr th {\n",
       "        vertical-align: top;\n",
       "    }\n",
       "\n",
       "    .dataframe thead th {\n",
       "        text-align: right;\n",
       "    }\n",
       "</style>\n",
       "<table border=\"1\" class=\"dataframe\">\n",
       "  <thead>\n",
       "    <tr style=\"text-align: right;\">\n",
       "      <th></th>\n",
       "      <th>y</th>\n",
       "      <th>Frequency</th>\n",
       "      <th>Relative Frequency</th>\n",
       "    </tr>\n",
       "  </thead>\n",
       "  <tbody>\n",
       "    <tr>\n",
       "      <th>0</th>\n",
       "      <td>no</td>\n",
       "      <td>4000</td>\n",
       "      <td>0.847158</td>\n",
       "    </tr>\n",
       "    <tr>\n",
       "      <th>1</th>\n",
       "      <td>yes</td>\n",
       "      <td>521</td>\n",
       "      <td>0.152842</td>\n",
       "    </tr>\n",
       "  </tbody>\n",
       "</table>\n",
       "</div>"
      ],
      "text/plain": [
       "     y  Frequency  Relative Frequency\n",
       "0   no       4000            0.847158\n",
       "1  yes        521            0.152842"
      ]
     },
     "execution_count": 138,
     "metadata": {},
     "output_type": "execute_result"
    }
   ],
   "source": [
    "subtable = pd.DataFrame({'y': value_counts.index,\n",
    "                          'Frequency' : value_counts.values,\n",
    "                          'Relative Frequency' : relative_frequencies.values})\n",
    "subtable"
   ]
  },
  {
   "cell_type": "markdown",
   "id": "60a8df06",
   "metadata": {},
   "source": [
    "## P = 0.12 , q = 0.88, k = 60, n = 500 \n",
    "## Where : * p = probability of Success\n",
    "        * q = probability of no success (1-p)\n",
    "        * k = number of trials in the choosen subset\n",
    "        * n = number of choosen subset in the survery "
   ]
  },
  {
   "cell_type": "code",
   "execution_count": 139,
   "id": "00474973",
   "metadata": {},
   "outputs": [],
   "source": [
    "from scipy.stats import binom"
   ]
  },
  {
   "cell_type": "code",
   "execution_count": 151,
   "id": "a0177501",
   "metadata": {},
   "outputs": [
    {
     "data": {
      "text/plain": [
       "0.9222247698431814"
      ]
     },
     "execution_count": 151,
     "metadata": {},
     "output_type": "execute_result"
    }
   ],
   "source": [
    "# P ( X > 60)\n",
    "binom.sf(k = 60, n = 597, p = 0.12)"
   ]
  },
  {
   "cell_type": "code",
   "execution_count": 152,
   "id": "2578d862",
   "metadata": {},
   "outputs": [
    {
     "data": {
      "text/plain": [
       "0.07777523015681861"
      ]
     },
     "execution_count": 152,
     "metadata": {},
     "output_type": "execute_result"
    }
   ],
   "source": [
    "# P ( X =< 60)\n",
    "binom.cdf(k = 60, n = 597, p = 0.12)"
   ]
  },
  {
   "cell_type": "code",
   "execution_count": 153,
   "id": "cb8d5af2",
   "metadata": {},
   "outputs": [
    {
     "data": {
      "text/plain": [
       "0.06024839682583223"
      ]
     },
     "execution_count": 153,
     "metadata": {},
     "output_type": "execute_result"
    }
   ],
   "source": [
    "# P(X < 60)\n",
    "binom.cdf(k = 59, n = 597, p = 0.12)"
   ]
  },
  {
   "cell_type": "code",
   "execution_count": 154,
   "id": "e423d925",
   "metadata": {},
   "outputs": [
    {
     "data": {
      "text/plain": [
       "0.017526833330987188"
      ]
     },
     "execution_count": 154,
     "metadata": {},
     "output_type": "execute_result"
    }
   ],
   "source": [
    "# P(X = 60)\n",
    "binom.pmf(k = 60, n = 597, p = 0.12)"
   ]
  },
  {
   "cell_type": "code",
   "execution_count": 155,
   "id": "8c24e83a",
   "metadata": {},
   "outputs": [
    {
     "data": {
      "text/plain": [
       "0.9397516031741677"
      ]
     },
     "execution_count": 155,
     "metadata": {},
     "output_type": "execute_result"
    }
   ],
   "source": [
    "# P ( X >= 60)\n",
    "binom.sf(k = 59, n = 597, p = 0.12)"
   ]
  },
  {
   "cell_type": "markdown",
   "id": "27a0d0fd",
   "metadata": {},
   "source": [
    "# Normal Distribution "
   ]
  },
  {
   "cell_type": "code",
   "execution_count": 161,
   "id": "bde60a29",
   "metadata": {},
   "outputs": [],
   "source": [
    "from scipy.stats import norm"
   ]
  },
  {
   "cell_type": "code",
   "execution_count": 162,
   "id": "ca016cb3",
   "metadata": {},
   "outputs": [
    {
     "data": {
      "text/plain": [
       "<Figure size 2900x1800 with 0 Axes>"
      ]
     },
     "execution_count": 162,
     "metadata": {},
     "output_type": "execute_result"
    },
    {
     "data": {
      "image/png": "[encoded data removed]",
      "text/plain": [
       "<Figure size 640x480 with 1 Axes>"
      ]
     },
     "metadata": {},
     "output_type": "display_data"
    },
    {
     "data": {
      "text/plain": [
       "<Figure size 2900x1800 with 0 Axes>"
      ]
     },
     "metadata": {},
     "output_type": "display_data"
    }
   ],
   "source": [
    "hs = sns.histplot(mkt_df.balance, kde = True, color='black')\n",
    "hs.set(xlabel='Balance' , ylabel='Amount Level' , title='Balance Distribution Histogram')\n",
    "plt.figure(figsize=(29, 18))"
   ]
  },
  {
   "cell_type": "code",
   "execution_count": 158,
   "id": "10d01d9d",
   "metadata": {},
   "outputs": [],
   "source": [
    "mean = 1422\n",
    "std_dev = 3009"
   ]
  },
  {
   "cell_type": "markdown",
   "id": "92ab7f74",
   "metadata": {},
   "source": [
    "### I will be using my balance because its a normal distribution from the graph above and it is a continue varible"
   ]
  },
  {
   "cell_type": "markdown",
   "id": "a6430e08",
   "metadata": {},
   "source": [
    "#### What is the probability that people with 1200 euros balance below or above will subscribe to a long term deposit"
   ]
  },
  {
   "cell_type": "code",
   "execution_count": null,
   "id": "b4df3e09",
   "metadata": {},
   "outputs": [],
   "source": [
    " ## X = Account Balance that will Subscribe to the long term deposit"
   ]
  },
  {
   "cell_type": "code",
   "execution_count": 164,
   "id": "98c22d2c",
   "metadata": {},
   "outputs": [
    {
     "data": {
      "text/plain": [
       "0.47059325220142145"
      ]
     },
     "execution_count": 164,
     "metadata": {},
     "output_type": "execute_result"
    }
   ],
   "source": [
    "# P (X < 1200)\n",
    "P1 = norm.cdf(1200, mean, std_dev)\n",
    "P1"
   ]
  },
  {
   "cell_type": "markdown",
   "id": "49939fba",
   "metadata": {},
   "source": [
    "In order to audit the susbscribers, there is a random selection of 597 subscribers \n",
    "using their age distribution. What is the probability that more than 60 of them\n",
    "with less than 1500 Euros will subscribe"
   ]
  },
  {
   "cell_type": "markdown",
   "id": "3542791f",
   "metadata": {},
   "source": [
    "# Y = number of subscribers that has less that 1500 euros(within 597)"
   ]
  },
  {
   "cell_type": "markdown",
   "id": "af0c2575",
   "metadata": {},
   "source": [
    "Binomial --> n = 597, p = WE NEED TO CALCULATE P"
   ]
  },
  {
   "cell_type": "code",
   "execution_count": 168,
   "id": "18058959",
   "metadata": {},
   "outputs": [
    {
     "data": {
      "text/plain": [
       "0.5103403168025704"
      ]
     },
     "execution_count": 168,
     "metadata": {},
     "output_type": "execute_result"
    }
   ],
   "source": [
    "#We use varible X to calculate p, because p is the probability that any subscriber with less than 1500 euros will subscribe to term deposit\n",
    "\n",
    "P2 = norm.cdf(1500, mean, std_dev)\n",
    "P2"
   ]
  },
  {
   "cell_type": "markdown",
   "id": "580b286e",
   "metadata": {},
   "source": [
    "Now, we know that this is a Binomial--> n = 597, p = 0.51"
   ]
  },
  {
   "cell_type": "code",
   "execution_count": 169,
   "id": "4ccf1d00",
   "metadata": {},
   "outputs": [
    {
     "data": {
      "text/plain": [
       "1.0"
      ]
     },
     "execution_count": 169,
     "metadata": {},
     "output_type": "execute_result"
    }
   ],
   "source": [
    "P3 = binom.sf(k = 60, n = 597, p = 0.51)\n",
    "P3"
   ]
  },
  {
   "cell_type": "code",
   "execution_count": null,
   "id": "2d16c30e",
   "metadata": {},
   "outputs": [],
   "source": []
  }
 ],
 "metadata": {
  "kernelspec": {
   "display_name": "Python 3 (ipykernel)",
   "language": "python",
   "name": "python3"
  },
  "language_info": {
   "codemirror_mode": {
    "name": "ipython",
    "version": 3
   },
   "file_extension": ".py",
   "mimetype": "text/x-python",
   "name": "python",
   "nbconvert_exporter": "python",
   "pygments_lexer": "ipython3",
   "version": "3.11.3"
  }
 },
 "nbformat": 4,
 "nbformat_minor": 5
}
